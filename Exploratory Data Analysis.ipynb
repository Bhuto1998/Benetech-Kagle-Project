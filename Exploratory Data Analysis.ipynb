{
 "cells": [
  {
   "cell_type": "markdown",
   "source": [
    "# Exploratory Data Analysis\n",
    "First I will try to run summary statistics on the train folder, i.e. how many images we have, how many annotations we have etc"
   ],
   "metadata": {
    "collapsed": false
   }
  },
  {
   "cell_type": "markdown",
   "source": [
    "# **Dataset Description and Guidelines for Code Competition**\n",
    "\n",
    "This document provides a detailed description of the dataset used in this competition, and also describes the structure and rules of the competition.\n",
    "\n",
    "## **Dataset Overview**\n",
    "\n",
    "The dataset for this competition includes approximately 65,000 annotated scientific figures of four types: bar graphs (both horizontal and vertical), dot plots, line graphs, and scatter plots. These figures are a mix of synthetically generated images and a few thousand figures extracted from professionally-produced sources. The challenge of this competition is to predict the data series represented in the test set figures.\n",
    "\n",
    "## **Competition Format**\n",
    "\n",
    "This competition follows a Code Competition structure. The actual test set is hidden and the public version only includes some sample data drawn from the training set to aid you in developing your solutions. When your submission is scored, this sample test data will be replaced with the actual test set.\n",
    "\n",
    "## **File and Field Descriptions**\n",
    "\n",
    "The dataset is organized into the following folders and files:\n",
    "\n",
    "- `train/annotations/`: This folder contains JSON image annotations that describe the figures, including:\n",
    "    - `source`: Whether the figure is generated or extracted.\n",
    "    - `chart-type`: The type of chart (dot, horizontal_bar, vertical_bar, line, or scatter).\n",
    "    - `plot-bb`: The bounding box of the plot within the figure, specified by height, width, x0, and y0.\n",
    "    - `text/id`: An identifier for a text item within the figure.\n",
    "    - `text/polygon`: The region bounding the text item in the image.\n",
    "    - `text/text`: The actual text.\n",
    "    - `text/role`: The function of the text in the image (for example, chart_title, axis_title, tick_label, etc.).\n",
    "    - `axes/{x|y}-axis/ticks/id`: An identifier that matches the tick to the associated text element id.\n",
    "    - `axes/{x|y}-axis/ticks/tick_pt`: Coordinates of each tick in the figure.\n",
    "    - `axes/{x|y}-axis/tick-type`: The graphical depiction of the tick element.\n",
    "    - `axes/{x|y}-axis/values-type`: The data type of the values represented by the tick element. This can be either categorical or numerical.\n",
    "    - `visual-elements`: Part of the figure representing the data series.\n",
    "    - `data-series/{x|y}`: The x and y coordinates of the values depicted in the figure. This is the target to be predicted for the test set images.\n",
    "\n",
    "- `train/images/`: This folder contains a collection of figures in JPG format to be used as training data.\n",
    "- `test/images/`: This folder contains a collection of figures to be used as test data. You are expected to predict the corresponding data series for each figure in this folder.\n",
    "- `sample_submission.csv`: A sample submission file in the correct format.\n",
    "\n",
    "## **Data Splits**\n",
    "\n",
    "The full test set comprises about 4,000 figures extracted from professionally-produced sources. It does not contain any generated figures. The distribution of chart types in the public and private test sets may not be identical.\n",
    "\n",
    "## **Additional Resources**\n",
    "\n",
    "The competition is inspired by the CHART-Info competition series. Resources from these competitions may be beneficial to participants."
   ],
   "metadata": {
    "collapsed": false
   }
  },
  {
   "cell_type": "code",
   "execution_count": 1,
   "outputs": [
    {
     "name": "stdout",
     "output_type": "stream",
     "text": [
      "Chart type: scatter, Count: 11243, Percentage: 18.56%\n",
      "Chart type: vertical_bar, Count: 19189, Percentage: 31.68%\n",
      "Chart type: dot, Count: 5131, Percentage: 8.47%\n",
      "Chart type: line, Count: 24942, Percentage: 41.17%\n",
      "Chart type: horizontal_bar, Count: 73, Percentage: 0.12%\n"
     ]
    }
   ],
   "source": [
    "import os\n",
    "import json\n",
    "\n",
    "# Define directory\n",
    "dir_path = 'train/annotations'\n",
    "\n",
    "# Create an empty dictionary to hold the counts\n",
    "chart_types = {}\n",
    "\n",
    "# Iterate through each JSON file in the directory\n",
    "for file_name in os.listdir(dir_path):\n",
    "    if file_name.endswith('.json'):\n",
    "        file_path = os.path.join(dir_path, file_name)\n",
    "\n",
    "        # Open the file and load as a JSON\n",
    "        with open(file_path, 'r') as f:\n",
    "            data = json.load(f)\n",
    "\n",
    "        # Get the chart type\n",
    "        chart_type = data.get('chart-type', None)\n",
    "        if chart_type is not None:\n",
    "            # If this chart type is already in the dictionary, increment the count\n",
    "            if chart_type in chart_types:\n",
    "                chart_types[chart_type] += 1\n",
    "            # Otherwise, add it to the dictionary with a count of 1\n",
    "            else:\n",
    "                chart_types[chart_type] = 1\n",
    "\n",
    "# Calculate total number of charts\n",
    "total_charts = sum(chart_types.values())\n",
    "\n",
    "# Print raw counts and percentages\n",
    "for chart_type, count in chart_types.items():\n",
    "    percentage = (count / total_charts) * 100\n",
    "    print(f'Chart type: {chart_type}, Count: {count}, Percentage: {percentage:.2f}%')\n"
   ],
   "metadata": {
    "collapsed": false,
    "ExecuteTime": {
     "end_time": "2023-05-29T10:29:14.608305Z",
     "start_time": "2023-05-29T10:29:03.497811Z"
    }
   }
  },
  {
   "cell_type": "code",
   "execution_count": 3,
   "outputs": [],
   "source": [
    "#Data Partition\n",
    "import os\n",
    "import json\n",
    "import shutil\n",
    "import random\n",
    "\n",
    "# Define the paths\n",
    "orig_annotation_path = 'train/annotations'\n",
    "orig_image_path = 'train/images'\n",
    "new_base_path = 'data_classification'\n",
    "new_train_annotation_path = os.path.join(new_base_path, 'train/annotations')\n",
    "new_train_image_path = os.path.join(new_base_path, 'train/images')\n",
    "new_test_annotation_path = os.path.join(new_base_path, 'test/annotations')\n",
    "new_test_image_path = os.path.join(new_base_path, 'test/images')\n",
    "\n",
    "# Create new directories if they don't exist\n",
    "os.makedirs(new_train_annotation_path, exist_ok=True)\n",
    "os.makedirs(new_train_image_path, exist_ok=True)\n",
    "os.makedirs(new_test_annotation_path, exist_ok=True)\n",
    "os.makedirs(new_test_image_path, exist_ok=True)\n",
    "\n",
    "# Store files by chart type\n",
    "chart_files = {chart_type: [] for chart_type in chart_types}\n",
    "\n",
    "# Iterate through each JSON file in the directory\n",
    "for file_name in os.listdir(orig_annotation_path):\n",
    "    if file_name.endswith('.json'):\n",
    "        file_path = os.path.join(orig_annotation_path, file_name)\n",
    "\n",
    "        # Open the file and load as a JSON\n",
    "        with open(file_path, 'r') as f:\n",
    "            data = json.load(f)\n",
    "\n",
    "        # Add the file to the appropriate list\n",
    "        chart_type = data['chart-type']\n",
    "        chart_files[chart_type].append(file_name)\n",
    "\n",
    "# Now split the files into train and test sets and move them\n",
    "for chart_type, files in chart_files.items():\n",
    "    # Shuffle the list for randomness\n",
    "    random.shuffle(files)\n",
    "\n",
    "    # Find the index that splits the files into about 60/40\n",
    "    split_index = int(0.6 * len(files))\n",
    "\n",
    "    # Split the files\n",
    "    train_files = files[:split_index]\n",
    "    test_files = files[split_index:]\n",
    "\n",
    "    # Move the files\n",
    "    for file_name in train_files:\n",
    "        # Move annotation\n",
    "        shutil.copy(os.path.join(orig_annotation_path, file_name),\n",
    "                    os.path.join(new_train_annotation_path, file_name))\n",
    "        # Move image\n",
    "        shutil.copy(os.path.join(orig_image_path, file_name.replace('.json', '.jpg')),\n",
    "                    os.path.join(new_train_image_path, file_name.replace('.json', '.jpg')))\n",
    "\n",
    "    for file_name in test_files:\n",
    "        # Move annotation\n",
    "        shutil.copy(os.path.join(orig_annotation_path, file_name),\n",
    "                    os.path.join(new_test_annotation_path, file_name))\n",
    "        # Move image\n",
    "        shutil.copy(os.path.join(orig_image_path, file_name.replace('.json', '.jpg')),\n",
    "                    os.path.join(new_test_image_path, file_name.replace('.json', '.jpg')))\n"
   ],
   "metadata": {
    "collapsed": false,
    "ExecuteTime": {
     "end_time": "2023-05-29T10:36:09.233856Z",
     "start_time": "2023-05-29T10:35:20.596124Z"
    }
   }
  },
  {
   "cell_type": "code",
   "execution_count": null,
   "outputs": [],
   "source": [],
   "metadata": {
    "collapsed": false
   }
  }
 ],
 "metadata": {
  "kernelspec": {
   "display_name": "Python 3",
   "language": "python",
   "name": "python3"
  },
  "language_info": {
   "codemirror_mode": {
    "name": "ipython",
    "version": 2
   },
   "file_extension": ".py",
   "mimetype": "text/x-python",
   "name": "python",
   "nbconvert_exporter": "python",
   "pygments_lexer": "ipython2",
   "version": "2.7.6"
  }
 },
 "nbformat": 4,
 "nbformat_minor": 0
}
