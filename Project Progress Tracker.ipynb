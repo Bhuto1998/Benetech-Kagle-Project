{
 "cells": [
  {
   "cell_type": "markdown",
   "source": [
    "# Benetech Kaggle Project Progress Tracker\n",
    "I am using this file as a progress tracker for the benetech project. Till now, I have downloaded the data and stored it in the test and train folder, sample submission file is sample_submission.csv\n",
    "\n",
    "Let's now dive into what the problem really is, I will do that in a separate notebook named exploratory data analysis and stored the results I got from that in this notebook."
   ],
   "metadata": {
    "collapsed": false
   }
  },
  {
   "cell_type": "markdown",
   "source": [
    "**Goal of the Competition**\n",
    "\n",
    "- Millions of students experience **learning, physical, or visual disabilities** that prevent them from accessing conventional print. A large proportion of **STEM (science, technology, engineering, and math)** educational materials remains inaccessible to these students.\n",
    "\n",
    "- The competition aims to address this challenge by creating an automatic solution to interpret and extract data from **four types of charts** typically found in STEM textbooks.\n",
    "\n",
    "- Current processes to make educational materials accessible are **manual, expensive, time-consuming**, and require multiple rounds of quality checks. This often means these materials aren't accessible to schools or teachers with insufficient funding.\n",
    "\n",
    "- The challenge involves leveraging **machine learning techniques** to make the written word accessible to all, potentially benefiting millions of students with learning differences or disabilities.\n",
    "\n",
    "**Context**\n",
    "\n",
    "- The competition is hosted by **Benetech**, a nonprofit organization committed to reducing social and economic disparities through 'software for social good'. Benetech's initiatives strive to make education, literacy, and employment more accessible to those with differences or disabilities.\n",
    "\n",
    "- The best solutions from the competition will be integrated into **Benetech's PageAI product**, a tool that converts books and other educational materials into accessible formats. This could make accessible STEM education a reality for millions of students with learning differences or disabilities."
   ],
   "metadata": {
    "collapsed": false
   }
  },
  {
   "cell_type": "markdown",
   "source": [
    "**Competition Objective**\n",
    "\n",
    "- The aim of the competition is to predict the data series represented by four types of scientific charts: **bar graphs, dot plots, line graphs, and scatter plots**.\n",
    "\n",
    "- For detailed information on what kind of predictions to make for each chart type, please refer to the page [Graph Conventions](https://www.example.com).\n",
    "\n",
    "- A Python implementation of the evaluation metric is provided in the notebook [Benetech Competition Metric](https://www.example.com).\n",
    "\n",
    "**Evaluation Metric**\n",
    "\n",
    "- The data series of a single figure includes two instances for evaluation: the series of values along the **x-axis** and the **y-axis**. Each data series can be either numerical or categorical, depending on the chart type.\n",
    "\n",
    "- Predicted data series are evaluated using a combination of **Levenshtein distance** for categorical data types and **RMSE (Root Mean Square Error)** for numerical data types. An exact-match criterion is initially applied for the chart type and the number of values in the series. These distances are then rescaled and mapped to a common similarity scale by a sigmoid-type transform with an optimum value of 1.\n",
    "\n",
    "- Evaluation of a single instance consists of first checking the number of values and type of chart predicted for a series. If these differ from the ground truth, the score for that series is zero. Otherwise, the predicted series is evaluated based on the data type of that series.\n",
    "\n",
    "- For numerical series, predictions are evaluated by a normalized RMSE.\n",
    "- For categorical series, predictions are evaluated by a normalized Levenshtein distance.\n",
    "\n",
    "- The overall score is the mean of the similarity scores over all instances.\n",
    "\n",
    "**Submission File**\n",
    "\n",
    "- Each row in the submission file should contain predicted series for one axis of a figure in the test set. The series values should be within a single string and separated by a semicolon (;). Also, the appropriate type for the chart the axis belongs to should be specified.\n",
    "\n",
    "- The file should contain a header and follow this format:\n",
    "\n",
    "```\n",
    "id,data_series,chart_type\n",
    "abc123_x,2;3;4;5,horizontal_bar\n",
    "abc123_y,a;b;c;d,horizontal_bar\n",
    "```"
   ],
   "metadata": {
    "collapsed": false
   }
  },
  {
   "cell_type": "markdown",
   "source": [
    "## **Data Prediction Conventions for Different Scientific Figure Types**\n",
    "\n",
    "This section provides guidelines on how to make consistent predictions across a variety of chart formats.\n",
    "\n",
    "**General Rules:**\n",
    "\n",
    "- Categorical values always correspond to a tick label on an axis.\n",
    "- Numerical values must be inferred from the tick labels through interpolation.\n",
    "\n",
    "## **1. Bar Charts**\n",
    "\n",
    "- Bar charts in the dataset can be vertical or horizontal. Vertical bar charts have independent values on the x-axis and dependent values on the y-axis. The reverse is true for horizontal bar charts.\n",
    "- Independent values are always categorical and are identified by the tick labels below each bar. Dependent values are always numeric and are identified by the bar's height or length.\n",
    "- Bar charts may also be histograms where x labels occur at each bar's ends. For scoring purposes, the x-axis values are treated as categorical type, not numeric.\n",
    "\n",
    "## **2. Dot Plots**\n",
    "\n",
    "- Dot plots have independent values on the x-axis and dependent values on the y-axis.\n",
    "- The x-axis values will be numeric if the tick labels can be parsed as Python floats; otherwise, they are categorical.\n",
    "- The y-axis values represent the number of dots in each column.\n",
    "\n",
    "## **3. Line Graphs**\n",
    "\n",
    "- Line graphs always have categorical x-axis values and numeric y-axis values.\n",
    "- X-axis values are the tick labels beneath some portion of the line graph.\n",
    "- Y-axis values are the corresponding dependent values indicated by the graph.\n",
    "\n",
    "## **4. Scatter Plots**\n",
    "\n",
    "- Scatter plots always have numeric x-axis values and numeric y-axis values.\n",
    "- Predict both x and y values for each point present in the figure.\n",
    "\n",
    "**Other Notes and Conventions:**\n",
    "\n",
    "- For a numerical axis, a percentage like X% is labeled as the number X, not X/100.\n",
    "- With one exception, both series for a figure will have the same number of values. With histograms, the x-axis series has an additional value.\n",
    "- A figure may contain annotations with value labels. These values may differ from ground-truth values, which are calculated based on the positioning of graphical elements on the page.\n",
    "- In the absence of an obvious corresponding tick/tick label pair, the center of the bounding box should be used for vertical/horizontal labels or the top corner of the bounding box for diagonal labels."
   ],
   "metadata": {
    "collapsed": false
   }
  },
  {
   "cell_type": "code",
   "execution_count": null,
   "outputs": [],
   "source": [],
   "metadata": {
    "collapsed": false
   }
  }
 ],
 "metadata": {
  "kernelspec": {
   "display_name": "Python 3",
   "language": "python",
   "name": "python3"
  },
  "language_info": {
   "codemirror_mode": {
    "name": "ipython",
    "version": 2
   },
   "file_extension": ".py",
   "mimetype": "text/x-python",
   "name": "python",
   "nbconvert_exporter": "python",
   "pygments_lexer": "ipython2",
   "version": "2.7.6"
  }
 },
 "nbformat": 4,
 "nbformat_minor": 0
}
